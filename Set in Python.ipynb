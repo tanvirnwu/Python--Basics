{
 "cells": [
  {
   "cell_type": "markdown",
   "id": "af514e42",
   "metadata": {},
   "source": [
    "# Set\n",
    "In Python, a set is an unordered collection of unique elements. It is defined using curly braces {} or the set() function. Sets are commonly used for performing mathematical operations like union, intersection, difference, and symmetric difference."
   ]
  },
  {
   "cell_type": "code",
   "execution_count": 6,
   "id": "60fcac92",
   "metadata": {},
   "outputs": [],
   "source": [
    "# creating a set\n",
    "my_set = {1, 2, 2, 3, 4, 5,1, 1}"
   ]
  },
  {
   "cell_type": "code",
   "execution_count": 8,
   "id": "e78d80d1",
   "metadata": {},
   "outputs": [
    {
     "data": {
      "text/plain": [
       "{1, 2, 3, 4, 5}"
      ]
     },
     "execution_count": 8,
     "metadata": {},
     "output_type": "execute_result"
    }
   ],
   "source": [
    "#Does not contain duplicate values\n",
    "my_set"
   ]
  },
  {
   "cell_type": "code",
   "execution_count": 28,
   "id": "ca8171d0",
   "metadata": {},
   "outputs": [],
   "source": [
    "cities = {'Suwon','Seoul','Daejeon'}"
   ]
  },
  {
   "cell_type": "code",
   "execution_count": 10,
   "id": "7891dc3f",
   "metadata": {},
   "outputs": [
    {
     "name": "stdout",
     "output_type": "stream",
     "text": [
      "{'Daejeon', 'Suwon', 'Seoul'}\n"
     ]
    },
    {
     "data": {
      "text/plain": [
       "set"
      ]
     },
     "execution_count": 10,
     "metadata": {},
     "output_type": "execute_result"
    }
   ],
   "source": [
    "print(cities)\n",
    "type(cities)"
   ]
  },
  {
   "cell_type": "markdown",
   "id": "d9533ab4",
   "metadata": {},
   "source": [
    "### Add and Update"
   ]
  },
  {
   "cell_type": "code",
   "execution_count": 30,
   "id": "d0f9c282",
   "metadata": {},
   "outputs": [],
   "source": [
    "cities.add('Ulsan')\n",
    "cities.update(['Sejong', 'Gwangju'])"
   ]
  },
  {
   "cell_type": "code",
   "execution_count": 31,
   "id": "5aac079e",
   "metadata": {},
   "outputs": [
    {
     "data": {
      "text/plain": [
       "{'Daejeon', 'Gwangju', 'Sejong', 'Seoul', 'Suwon', 'Ulsan'}"
      ]
     },
     "execution_count": 31,
     "metadata": {},
     "output_type": "execute_result"
    }
   ],
   "source": [
    "cities"
   ]
  },
  {
   "cell_type": "markdown",
   "id": "b885ee05",
   "metadata": {},
   "source": [
    "### Sets are commonly used for performing mathematical operations like union, intersection, difference, and symmetric difference."
   ]
  },
  {
   "cell_type": "code",
   "execution_count": 16,
   "id": "368953b0",
   "metadata": {},
   "outputs": [],
   "source": [
    "city1 = {'Suwon','Seoul','Ulsan'}\n",
    "city2 = {'Daejeon', 'Seoul', 'Suwon', 'Ulsan'}"
   ]
  },
  {
   "cell_type": "code",
   "execution_count": 33,
   "id": "248638a8",
   "metadata": {},
   "outputs": [
    {
     "data": {
      "text/plain": [
       "{'Daejeon'}"
      ]
     },
     "execution_count": 33,
     "metadata": {},
     "output_type": "execute_result"
    }
   ],
   "source": [
    "#Difference\n",
    "city2.difference(city1)     #Only returns the uncommon data of city2"
   ]
  },
  {
   "cell_type": "code",
   "execution_count": 35,
   "id": "26017d7d",
   "metadata": {},
   "outputs": [
    {
     "data": {
      "text/plain": [
       "set()"
      ]
     },
     "execution_count": 35,
     "metadata": {},
     "output_type": "execute_result"
    }
   ],
   "source": [
    "city1.difference(city2)     #Only returns the uncommon data of city1"
   ]
  },
  {
   "cell_type": "code",
   "execution_count": 39,
   "id": "7d930470",
   "metadata": {},
   "outputs": [
    {
     "data": {
      "text/plain": [
       "{'Seoul', 'Suwon', 'Ulsan'}"
      ]
     },
     "execution_count": 39,
     "metadata": {},
     "output_type": "execute_result"
    }
   ],
   "source": [
    "city1"
   ]
  },
  {
   "cell_type": "code",
   "execution_count": 40,
   "id": "40ca3f3a",
   "metadata": {},
   "outputs": [
    {
     "data": {
      "text/plain": [
       "{'Daejeon', 'Seoul', 'Suwon', 'Ulsan'}"
      ]
     },
     "execution_count": 40,
     "metadata": {},
     "output_type": "execute_result"
    }
   ],
   "source": [
    "city2"
   ]
  },
  {
   "cell_type": "code",
   "execution_count": 41,
   "id": "ed443e29",
   "metadata": {},
   "outputs": [],
   "source": [
    "#Difference_update\n",
    "city2.difference_update(city1)"
   ]
  },
  {
   "cell_type": "code",
   "execution_count": 42,
   "id": "f196533c",
   "metadata": {},
   "outputs": [
    {
     "data": {
      "text/plain": [
       "{'Daejeon'}"
      ]
     },
     "execution_count": 42,
     "metadata": {},
     "output_type": "execute_result"
    }
   ],
   "source": [
    "city2  "
   ]
  },
  {
   "cell_type": "code",
   "execution_count": 43,
   "id": "0f593dde",
   "metadata": {},
   "outputs": [
    {
     "data": {
      "text/plain": [
       "{'Seoul', 'Suwon', 'Ulsan'}"
      ]
     },
     "execution_count": 43,
     "metadata": {},
     "output_type": "execute_result"
    }
   ],
   "source": [
    "city1"
   ]
  },
  {
   "cell_type": "markdown",
   "id": "75bea7ef",
   "metadata": {},
   "source": [
    "### Remove & Discard"
   ]
  },
  {
   "cell_type": "code",
   "execution_count": 50,
   "id": "99e340d8",
   "metadata": {},
   "outputs": [],
   "source": [
    "set1 = {1, 2, 3, 4,5,6,7,8,9}"
   ]
  },
  {
   "cell_type": "code",
   "execution_count": 51,
   "id": "fb1eaeae",
   "metadata": {},
   "outputs": [
    {
     "data": {
      "text/plain": [
       "{1, 4, 5, 6, 7, 8, 9}"
      ]
     },
     "execution_count": 51,
     "metadata": {},
     "output_type": "execute_result"
    }
   ],
   "source": [
    "set1.remove(2)\n",
    "set1.discard(3)\n",
    "set1"
   ]
  },
  {
   "cell_type": "markdown",
   "id": "eef5e2da",
   "metadata": {},
   "source": [
    "### Checking if an element is in a set: "
   ]
  },
  {
   "cell_type": "code",
   "execution_count": 55,
   "id": "555d1878",
   "metadata": {},
   "outputs": [
    {
     "name": "stdout",
     "output_type": "stream",
     "text": [
      "5 is in the set\n"
     ]
    }
   ],
   "source": [
    "if 5 in set1:\n",
    "    print(\"5 is in the set\")"
   ]
  },
  {
   "cell_type": "markdown",
   "id": "2a81863f",
   "metadata": {},
   "source": [
    "### Finding the length of a set:"
   ]
  },
  {
   "cell_type": "code",
   "execution_count": 57,
   "id": "46d47d14",
   "metadata": {},
   "outputs": [
    {
     "name": "stdout",
     "output_type": "stream",
     "text": [
      "7\n"
     ]
    }
   ],
   "source": [
    "print(len(set1))"
   ]
  },
  {
   "cell_type": "markdown",
   "id": "dab3c36d",
   "metadata": {},
   "source": [
    "### Performing set operations like union, intersection, and difference:"
   ]
  },
  {
   "cell_type": "code",
   "execution_count": 58,
   "id": "80eb4d36",
   "metadata": {},
   "outputs": [],
   "source": [
    "set1 = {1, 2, 3, 4}\n",
    "set2 = {3, 4, 5, 6}"
   ]
  },
  {
   "cell_type": "code",
   "execution_count": 59,
   "id": "e8e50ab8",
   "metadata": {},
   "outputs": [
    {
     "name": "stdout",
     "output_type": "stream",
     "text": [
      "{1, 2, 3, 4, 5, 6}\n"
     ]
    }
   ],
   "source": [
    "union_set = set1.union(set2)\n",
    "print(union_set) "
   ]
  },
  {
   "cell_type": "code",
   "execution_count": 62,
   "id": "18b952e9",
   "metadata": {},
   "outputs": [
    {
     "name": "stdout",
     "output_type": "stream",
     "text": [
      "{3, 4}\n"
     ]
    }
   ],
   "source": [
    "intersection_set = set1.intersection(set2)\n",
    "print(intersection_set) "
   ]
  },
  {
   "cell_type": "code",
   "execution_count": 63,
   "id": "5b56573e",
   "metadata": {},
   "outputs": [
    {
     "name": "stdout",
     "output_type": "stream",
     "text": [
      "{1, 2}\n"
     ]
    }
   ],
   "source": [
    "difference_set = set1.difference(set2)\n",
    "print(difference_set) "
   ]
  },
  {
   "cell_type": "markdown",
   "id": "159befbc",
   "metadata": {},
   "source": [
    "### Symmetric difference between two sets "
   ]
  },
  {
   "cell_type": "code",
   "execution_count": 64,
   "id": "dce7bc54",
   "metadata": {},
   "outputs": [
    {
     "name": "stdout",
     "output_type": "stream",
     "text": [
      "{1, 2, 3, 6, 7, 8}\n"
     ]
    }
   ],
   "source": [
    "set1 = {1, 2, 3, 4, 5}\n",
    "set2 = {4, 5, 6, 7, 8}\n",
    "set3 = set1.symmetric_difference(set2)\n",
    "print(set3)"
   ]
  },
  {
   "cell_type": "markdown",
   "id": "b06709cc",
   "metadata": {},
   "source": [
    "### Checking if one set is a subset of another set: "
   ]
  },
  {
   "cell_type": "code",
   "execution_count": 65,
   "id": "ecc8fa3f",
   "metadata": {},
   "outputs": [
    {
     "name": "stdout",
     "output_type": "stream",
     "text": [
      "set2 is a subset of set1\n"
     ]
    }
   ],
   "source": [
    "set1 = {1, 2, 3, 4}\n",
    "set2 = {1, 2, 3}\n",
    "if set2.issubset(set1):\n",
    "    print(\"set2 is a subset of set1\")\n",
    "else:\n",
    "    print(\"set2 is not a subset of set1\")"
   ]
  },
  {
   "cell_type": "markdown",
   "id": "48b59833",
   "metadata": {},
   "source": [
    "### Checking if one set is a superset of another set: "
   ]
  },
  {
   "cell_type": "code",
   "execution_count": 66,
   "id": "29d28813",
   "metadata": {},
   "outputs": [
    {
     "name": "stdout",
     "output_type": "stream",
     "text": [
      "set1 is a superset of set2\n"
     ]
    }
   ],
   "source": [
    "set1 = {1, 2, 3, 4}\n",
    "set2 = {1, 2, 3}\n",
    "if set1.issuperset(set2):\n",
    "    print(\"set1 is a superset of set2\")\n",
    "else:\n",
    "    print(\"set1 is not a superset of set2\")"
   ]
  },
  {
   "cell_type": "code",
   "execution_count": null,
   "id": "cc4e34ec",
   "metadata": {},
   "outputs": [],
   "source": []
  }
 ],
 "metadata": {
  "kernelspec": {
   "display_name": "Python 3 (ipykernel)",
   "language": "python",
   "name": "python3"
  },
  "language_info": {
   "codemirror_mode": {
    "name": "ipython",
    "version": 3
   },
   "file_extension": ".py",
   "mimetype": "text/x-python",
   "name": "python",
   "nbconvert_exporter": "python",
   "pygments_lexer": "ipython3",
   "version": "3.9.13"
  }
 },
 "nbformat": 4,
 "nbformat_minor": 5
}
