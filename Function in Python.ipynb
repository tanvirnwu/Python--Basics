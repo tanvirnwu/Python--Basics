{
 "cells": [
  {
   "cell_type": "markdown",
   "id": "53311a8d",
   "metadata": {},
   "source": [
    "# Function in Python"
   ]
  },
  {
   "cell_type": "markdown",
   "id": "ad9ce0e4",
   "metadata": {},
   "source": [
    "### Define a Fuction"
   ]
  },
  {
   "cell_type": "code",
   "execution_count": 2,
   "id": "74edd9d5",
   "metadata": {},
   "outputs": [],
   "source": [
    "def our_func():\n",
    "    pass\n",
    "\n",
    "#execute/calling a function\n",
    "our_func()"
   ]
  },
  {
   "cell_type": "code",
   "execution_count": 3,
   "id": "5c320845",
   "metadata": {},
   "outputs": [
    {
     "name": "stdout",
     "output_type": "stream",
     "text": [
      "None\n"
     ]
    }
   ],
   "source": [
    "print(our_func())"
   ]
  },
  {
   "cell_type": "code",
   "execution_count": 7,
   "id": "8907fd76",
   "metadata": {},
   "outputs": [
    {
     "name": "stdout",
     "output_type": "stream",
     "text": [
      "The function executed successfully.\n"
     ]
    }
   ],
   "source": [
    "def our_func():\n",
    "    print(\"The function executed successfully.\")\n",
    "\n",
    "our_func()"
   ]
  },
  {
   "cell_type": "markdown",
   "id": "c919b751",
   "metadata": {},
   "source": [
    "### Retun"
   ]
  },
  {
   "cell_type": "code",
   "execution_count": 15,
   "id": "e21b44c6",
   "metadata": {},
   "outputs": [
    {
     "name": "stdout",
     "output_type": "stream",
     "text": [
      "It is a returned text from the Function.\n",
      "IT IS A RETURNED TEXT FROM THE FUNCTION.\n"
     ]
    }
   ],
   "source": [
    "def our_func():\n",
    "    return 'It is a returned text from the Function.'\n",
    "\n",
    "print(our_func())\n",
    "print(our_func().upper())"
   ]
  },
  {
   "cell_type": "markdown",
   "id": "830dcf2c",
   "metadata": {},
   "source": [
    "### Function Parameter"
   ]
  },
  {
   "cell_type": "code",
   "execution_count": 19,
   "id": "68a08777",
   "metadata": {},
   "outputs": [
    {
     "name": "stdout",
     "output_type": "stream",
     "text": [
      "The function return the message Hello!\n"
     ]
    }
   ],
   "source": [
    "def our_func(msg):\n",
    "    return 'The function return the message {}'.format(msg)\n",
    "\n",
    "print(our_func('Hello!'))"
   ]
  },
  {
   "cell_type": "code",
   "execution_count": 21,
   "id": "221d3d1c",
   "metadata": {},
   "outputs": [
    {
     "name": "stdout",
     "output_type": "stream",
     "text": [
      "The person name is Smith and age is 20\n"
     ]
    }
   ],
   "source": [
    "def person(name, age=20):\n",
    "    return \"The person name is {} and age is {}\".format(name, age)\n",
    "\n",
    "print(person('Smith', 20))"
   ]
  },
  {
   "cell_type": "code",
   "execution_count": 23,
   "id": "70d5facd",
   "metadata": {},
   "outputs": [
    {
     "name": "stdout",
     "output_type": "stream",
     "text": [
      "('Math', 'Art')\n",
      "{'name': 'Smith', 'Age': 22}\n"
     ]
    }
   ],
   "source": [
    "def student_info(*args, **kwargs):\n",
    "    print(args)\n",
    "    print(kwargs)\n",
    "    \n",
    "student_info('Math', 'Art', name='Smith', Age=22)"
   ]
  },
  {
   "cell_type": "code",
   "execution_count": 25,
   "id": "747306f2",
   "metadata": {},
   "outputs": [
    {
     "name": "stdout",
     "output_type": "stream",
     "text": [
      "(['Math', 'Art'], {'name': 'Smith', 'Age': 22})\n",
      "{}\n"
     ]
    }
   ],
   "source": [
    "def student_info(*args, **kwargs):\n",
    "    print(args)\n",
    "    print(kwargs)\n",
    "\n",
    "courses = ['Math', 'Art']\n",
    "info = {'name':'Smith', 'Age':22}\n",
    "\n",
    "student_info(courses, info)"
   ]
  },
  {
   "cell_type": "code",
   "execution_count": 26,
   "id": "9fe5f6d5",
   "metadata": {},
   "outputs": [
    {
     "name": "stdout",
     "output_type": "stream",
     "text": [
      "('Math', 'Art')\n",
      "{'name': 'Smith', 'Age': 22}\n"
     ]
    }
   ],
   "source": [
    "def student_info(*args, **kwargs):\n",
    "    print(args)\n",
    "    print(kwargs)\n",
    "\n",
    "courses = ['Math', 'Art']\n",
    "info = {'name':'Smith', 'Age':22}\n",
    "\n",
    "student_info(*courses, **info)"
   ]
  },
  {
   "cell_type": "markdown",
   "id": "b5da0eb1",
   "metadata": {},
   "source": [
    "### Practice"
   ]
  },
  {
   "cell_type": "code",
   "execution_count": 27,
   "id": "9c8c311f",
   "metadata": {},
   "outputs": [
    {
     "name": "stdout",
     "output_type": "stream",
     "text": [
      "28\n"
     ]
    }
   ],
   "source": [
    "# Number of days per month. First value placeholder for indexing purposes.\n",
    "month_days = [0, 31, 28, 31, 30, 31, 30, 31, 31, 30, 31, 30, 31]\n",
    "\n",
    "\n",
    "def is_leap(year):\n",
    "    \"\"\"Return True for leap years, False for non-leap years.\"\"\"\n",
    "\n",
    "    return year % 4 == 0 and (year % 100 != 0 or year % 400 == 0)\n",
    "\n",
    "\n",
    "def days_in_month(year, month):\n",
    "    \"\"\"Return number of days in that month in that year.\"\"\"\n",
    "\n",
    "    # year 2017\n",
    "    # month 2\n",
    "    if not 1 <= month <= 12:\n",
    "        return 'Invalid Month'\n",
    "\n",
    "    if month == 2 and is_leap(year):\n",
    "        return 29\n",
    "\n",
    "    return month_days[month]\n",
    "\n",
    "print(days_in_month(2017, 2))"
   ]
  },
  {
   "cell_type": "code",
   "execution_count": null,
   "id": "5d8d3742",
   "metadata": {},
   "outputs": [],
   "source": []
  }
 ],
 "metadata": {
  "kernelspec": {
   "display_name": "Python 3 (ipykernel)",
   "language": "python",
   "name": "python3"
  },
  "language_info": {
   "codemirror_mode": {
    "name": "ipython",
    "version": 3
   },
   "file_extension": ".py",
   "mimetype": "text/x-python",
   "name": "python",
   "nbconvert_exporter": "python",
   "pygments_lexer": "ipython3",
   "version": "3.9.13"
  }
 },
 "nbformat": 4,
 "nbformat_minor": 5
}
