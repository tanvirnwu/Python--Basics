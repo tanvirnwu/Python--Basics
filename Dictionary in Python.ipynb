{
 "cells": [
  {
   "cell_type": "markdown",
   "id": "5de13dda",
   "metadata": {},
   "source": [
    "# Dictionary\n",
    "Dictionary in Python is a collection of key-value pairs that are unordered, mutable, and indexed. Each key-value pair in the dictionary is separated by a colon(:), and individual pairs are separated by a comma(,). The keys in a dictionary must be unique and immutable, while the values can be of any data type and can be mutable or immutable."
   ]
  },
  {
   "cell_type": "markdown",
   "id": "c9f3108d",
   "metadata": {},
   "source": [
    "### Creating a Dictionary\n",
    "To create a dictionary, you can use the curly braces {} or the built-in dict() function. Here's an example:"
   ]
  },
  {
   "cell_type": "code",
   "execution_count": 6,
   "id": "c8354463",
   "metadata": {},
   "outputs": [],
   "source": [
    "# Using curly braces\n",
    "my_dict1 = {\"name\": \"John\", \"age\": 30, \"city\": \"New York\"}\n",
    "\n",
    "# Using dict() function\n",
    "my_dict2 = dict(name=\"Smith\", age=24, city=\"London\")"
   ]
  },
  {
   "cell_type": "code",
   "execution_count": 7,
   "id": "ea5b4e29",
   "metadata": {},
   "outputs": [
    {
     "data": {
      "text/plain": [
       "{'name': 'John', 'age': 30, 'city': 'New York'}"
      ]
     },
     "execution_count": 7,
     "metadata": {},
     "output_type": "execute_result"
    }
   ],
   "source": [
    "my_dict1"
   ]
  },
  {
   "cell_type": "code",
   "execution_count": 8,
   "id": "5676245f",
   "metadata": {},
   "outputs": [
    {
     "data": {
      "text/plain": [
       "{'name': 'Smith', 'age': 24, 'city': 'London'}"
      ]
     },
     "execution_count": 8,
     "metadata": {},
     "output_type": "execute_result"
    }
   ],
   "source": [
    "my_dict2"
   ]
  },
  {
   "cell_type": "markdown",
   "id": "81797238",
   "metadata": {},
   "source": [
    "### Accessing Items in a Dictionary\n",
    "You can access the values in a dictionary using their keys. Here's an example:"
   ]
  },
  {
   "cell_type": "code",
   "execution_count": 11,
   "id": "03c14d1c",
   "metadata": {},
   "outputs": [
    {
     "name": "stdout",
     "output_type": "stream",
     "text": [
      "John\n"
     ]
    }
   ],
   "source": [
    "# Accessing an item in the dictionary\n",
    "print(my_dict1[\"name\"]) "
   ]
  },
  {
   "cell_type": "code",
   "execution_count": 12,
   "id": "2e60c69c",
   "metadata": {},
   "outputs": [
    {
     "name": "stdout",
     "output_type": "stream",
     "text": [
      "Smith\n"
     ]
    }
   ],
   "source": [
    "# Accessing an item in the dictionary\n",
    "print(my_dict2[\"name\"]) "
   ]
  },
  {
   "cell_type": "code",
   "execution_count": 13,
   "id": "0b0020a3",
   "metadata": {},
   "outputs": [
    {
     "name": "stdout",
     "output_type": "stream",
     "text": [
      "Name: John, Age: 30, City: New York\n"
     ]
    }
   ],
   "source": [
    "print(\"Name: {}, Age: {}, City: {}\".format(my_dict1[\"name\"],my_dict1[\"age\"],my_dict1[\"city\"])) "
   ]
  },
  {
   "cell_type": "markdown",
   "id": "a83e42be",
   "metadata": {},
   "source": [
    "### Updating a Dictionary\n",
    "You can update the values of an existing key in a dictionary or add a new key-value pair to the dictionary. Here's an example:"
   ]
  },
  {
   "cell_type": "code",
   "execution_count": 20,
   "id": "fdf55240",
   "metadata": {},
   "outputs": [],
   "source": [
    "# Updating a value in the dictionary\n",
    "my_dict1[\"age\"] = 35\n",
    "\n",
    "# Adding a new key-value pair to the dictionary\n",
    "my_dict1[\"occupation\"] = \"Engineer\"\n",
    "my_dict1[\"hobby\"] = \"Fishing\""
   ]
  },
  {
   "cell_type": "code",
   "execution_count": 21,
   "id": "df0db341",
   "metadata": {},
   "outputs": [
    {
     "data": {
      "text/plain": [
       "{'name': 'John',\n",
       " 'city': 'New York',\n",
       " 'hobby': 'Fishing',\n",
       " 'age': 35,\n",
       " 'occupation': 'Engineer'}"
      ]
     },
     "execution_count": 21,
     "metadata": {},
     "output_type": "execute_result"
    }
   ],
   "source": [
    "my_dict1"
   ]
  },
  {
   "cell_type": "markdown",
   "id": "9734657f",
   "metadata": {},
   "source": [
    "### Removing Items from a Dictionary\n",
    "You can remove an item from a dictionary using the del keyword or the pop() method. Here's an example:"
   ]
  },
  {
   "cell_type": "code",
   "execution_count": 22,
   "id": "66544c63",
   "metadata": {},
   "outputs": [
    {
     "data": {
      "text/plain": [
       "'Fishing'"
      ]
     },
     "execution_count": 22,
     "metadata": {},
     "output_type": "execute_result"
    }
   ],
   "source": [
    "# Removing an item from the dictionary\n",
    "del my_dict1[\"occupation\"]\n",
    "\n",
    "# Removing an item using pop() method\n",
    "my_dict1.pop(\"hobby\")"
   ]
  },
  {
   "cell_type": "code",
   "execution_count": 23,
   "id": "d8ace854",
   "metadata": {},
   "outputs": [
    {
     "data": {
      "text/plain": [
       "{'name': 'John', 'city': 'New York', 'age': 35}"
      ]
     },
     "execution_count": 23,
     "metadata": {},
     "output_type": "execute_result"
    }
   ],
   "source": [
    "my_dict1"
   ]
  },
  {
   "cell_type": "markdown",
   "id": "491fe891",
   "metadata": {},
   "source": [
    "### Looping through a Dictionary\n",
    "You can loop through a dictionary using a for loop. Here's an example:"
   ]
  },
  {
   "cell_type": "code",
   "execution_count": 25,
   "id": "b25bd90c",
   "metadata": {},
   "outputs": [
    {
     "name": "stdout",
     "output_type": "stream",
     "text": [
      "name John\n",
      "city New York\n",
      "age 35\n"
     ]
    }
   ],
   "source": [
    "# Looping through the dictionary\n",
    "for key, value in my_dict1.items():\n",
    "    print(key, value)"
   ]
  },
  {
   "cell_type": "markdown",
   "id": "0b7e06fc",
   "metadata": {},
   "source": [
    "### Dictionary Methods\n",
    "Here are some built-in methods that you can use with dictionaries:\n",
    "\n",
    "clear() - removes all items from the dictionary\n",
    "\n",
    "copy() - returns a shallow copy of the dictionary\n",
    "\n",
    "keys() - returns a list of all the keys in the dictionary\n",
    "\n",
    "values() - returns a list of all the values in the dictionary\n",
    "\n",
    "items() - returns a list of all the key-value pairs in the dictionary"
   ]
  },
  {
   "cell_type": "code",
   "execution_count": 26,
   "id": "51dc1993",
   "metadata": {},
   "outputs": [
    {
     "name": "stdout",
     "output_type": "stream",
     "text": [
      "dict_keys(['name', 'city', 'age'])\n",
      "dict_values(['John', 'New York', 35])\n",
      "dict_items([('name', 'John'), ('city', 'New York'), ('age', 35)])\n"
     ]
    }
   ],
   "source": [
    "# Example of using dictionary methods\n",
    "print(my_dict1.keys())    # Output: [\"name\", \"occupation\"]\n",
    "print(my_dict1.values())  # Output: [\"John\", \"Engineer\"]\n",
    "print(my_dict1.items())   # Output: [(\"name\", \"John\"), (\"occupation\", \"Engineer\")]\n"
   ]
  },
  {
   "cell_type": "markdown",
   "id": "a64f08ec",
   "metadata": {},
   "source": [
    "### Nested Dictionary\n",
    "A nested dictionary is a dictionary that contains one or more dictionaries as values. This means that the value of a key in a dictionary can be another dictionary. Nested dictionaries are useful when you need to store complex data structures that have a hierarchical or nested nature. Here's an example of a nested dictionary in Python:"
   ]
  },
  {
   "cell_type": "code",
   "execution_count": 27,
   "id": "c693bc70",
   "metadata": {},
   "outputs": [],
   "source": [
    "employee1 = {\"Name\": \"John\", \"Age\":30, \"Position\": \"Manager\"}\n",
    "employee2 = {\"Name\": \"Smith\", \"Age\":25, \"Position\": \"Intern\"}\n",
    "employee3 = {\"Name\": \"Jesse\", \"Age\":28, \"Position\": \"Director\"}\n",
    "\n",
    "employees = {\"Person1\":employee1,\"Person2\":employee2,\"person3\":employee3}"
   ]
  },
  {
   "cell_type": "code",
   "execution_count": 28,
   "id": "ec13905f",
   "metadata": {},
   "outputs": [
    {
     "data": {
      "text/plain": [
       "{'Person1': {'Name': 'John', 'Age': 30, 'Position': 'Manager'},\n",
       " 'Person2': {'Name': 'Smith', 'Age': 25, 'Position': 'Intern'},\n",
       " 'person3': {'Name': 'Jesse', 'Age': 28, 'Position': 'Director'}}"
      ]
     },
     "execution_count": 28,
     "metadata": {},
     "output_type": "execute_result"
    }
   ],
   "source": [
    "employees"
   ]
  },
  {
   "cell_type": "code",
   "execution_count": 34,
   "id": "b843b477",
   "metadata": {},
   "outputs": [
    {
     "name": "stdout",
     "output_type": "stream",
     "text": [
      "{'Name': 'John', 'Age': 30, 'Position': 'Manager'}\n"
     ]
    }
   ],
   "source": [
    "#Accessing item from dictionary\n",
    "print(employees[\"Person1\"])"
   ]
  },
  {
   "cell_type": "code",
   "execution_count": 35,
   "id": "56b038cb",
   "metadata": {},
   "outputs": [
    {
     "name": "stdout",
     "output_type": "stream",
     "text": [
      "John\n"
     ]
    }
   ],
   "source": [
    "#Accessing item from nested dictionary\n",
    "print(employees[\"Person1\"][\"Name\"])"
   ]
  },
  {
   "cell_type": "markdown",
   "id": "d8142382",
   "metadata": {},
   "source": [
    "### Built-in Functions"
   ]
  },
  {
   "cell_type": "code",
   "execution_count": 56,
   "id": "74391334",
   "metadata": {},
   "outputs": [
    {
     "name": "stdout",
     "output_type": "stream",
     "text": [
      "{'name': 'John', 'age': 30, 'city': 'New York'}\n"
     ]
    }
   ],
   "source": [
    "#str(): Returns a string representation of the dictionary.\n",
    "my_dict = {\"name\": \"John\", \"age\": 30, \"city\": \"New York\"}\n",
    "print(str(my_dict)) "
   ]
  },
  {
   "cell_type": "code",
   "execution_count": 57,
   "id": "b2f87a2f",
   "metadata": {},
   "outputs": [
    {
     "name": "stdout",
     "output_type": "stream",
     "text": [
      "['Person1', 'Person2', 'person3']\n"
     ]
    }
   ],
   "source": [
    "#sorted(): Returns a new sorted list of the keys in the dictionary.\n",
    "my_dict = {\"name\": \"John\", \"age\": 30, \"city\": \"New York\"}\n",
    "print(sorted(employees))  "
   ]
  },
  {
   "cell_type": "code",
   "execution_count": 58,
   "id": "0440a19a",
   "metadata": {},
   "outputs": [
    {
     "name": "stdout",
     "output_type": "stream",
     "text": [
      "dict_keys(['name', 'age', 'city'])\n"
     ]
    }
   ],
   "source": [
    "#keys(): Returns a list of all the keys in the dictionary.\n",
    "my_dict = {\"name\": \"John\", \"age\": 30, \"city\": \"New York\"}\n",
    "print(my_dict.keys())   "
   ]
  },
  {
   "cell_type": "code",
   "execution_count": 59,
   "id": "77f7e058",
   "metadata": {},
   "outputs": [
    {
     "name": "stdout",
     "output_type": "stream",
     "text": [
      "dict_values(['John', 30, 'New York'])\n"
     ]
    }
   ],
   "source": [
    "#values(): Returns a list of all the values in the dictionary.\n",
    "my_dict = {\"name\": \"John\", \"age\": 30, \"city\": \"New York\"}\n",
    "print(my_dict.values())   "
   ]
  },
  {
   "cell_type": "code",
   "execution_count": 60,
   "id": "a010edb7",
   "metadata": {},
   "outputs": [
    {
     "name": "stdout",
     "output_type": "stream",
     "text": [
      "dict_items([('name', 'John'), ('age', 30), ('city', 'New York')])\n"
     ]
    }
   ],
   "source": [
    "#items(): Returns a list of all the key-value pairs in the dictionary.\n",
    "my_dict = {\"name\": \"John\", \"age\": 30, \"city\": \"New York\"}\n",
    "print(my_dict.items())  "
   ]
  },
  {
   "cell_type": "code",
   "execution_count": 61,
   "id": "5d429575",
   "metadata": {},
   "outputs": [
    {
     "name": "stdout",
     "output_type": "stream",
     "text": [
      "John\n",
      "None\n",
      "USA\n"
     ]
    }
   ],
   "source": [
    "#get(): Returns the value of a specified key. If the key does not exist, it returns a default value (None by default).\n",
    "my_dict = {\"name\": \"John\", \"age\": 30, \"city\": \"New York\"}\n",
    "print(my_dict.get(\"name\"))   # Output: John\n",
    "print(my_dict.get(\"country\"))   # Output: None\n",
    "print(my_dict.get(\"country\", \"USA\"))   # Output: USA"
   ]
  },
  {
   "cell_type": "code",
   "execution_count": 62,
   "id": "848e4c24",
   "metadata": {},
   "outputs": [
    {
     "name": "stdout",
     "output_type": "stream",
     "text": [
      "{'name': 'John', 'age': 35, 'city': 'New York', 'occupation': 'Engineer'}\n"
     ]
    }
   ],
   "source": [
    "#update(): Updates the dictionary with the key-value pairs from another dictionary.\n",
    "my_dict = {\"name\": \"John\", \"age\": 30, \"city\": \"New York\"}\n",
    "new_dict = {\"occupation\": \"Engineer\", \"age\": 35}\n",
    "my_dict.update(new_dict)\n",
    "print(my_dict) "
   ]
  },
  {
   "cell_type": "code",
   "execution_count": null,
   "id": "8d88e854",
   "metadata": {},
   "outputs": [],
   "source": []
  },
  {
   "cell_type": "code",
   "execution_count": null,
   "id": "ccea1b64",
   "metadata": {},
   "outputs": [],
   "source": []
  },
  {
   "cell_type": "code",
   "execution_count": null,
   "id": "d319f644",
   "metadata": {},
   "outputs": [],
   "source": []
  }
 ],
 "metadata": {
  "kernelspec": {
   "display_name": "Python 3 (ipykernel)",
   "language": "python",
   "name": "python3"
  },
  "language_info": {
   "codemirror_mode": {
    "name": "ipython",
    "version": 3
   },
   "file_extension": ".py",
   "mimetype": "text/x-python",
   "name": "python",
   "nbconvert_exporter": "python",
   "pygments_lexer": "ipython3",
   "version": "3.9.13"
  }
 },
 "nbformat": 4,
 "nbformat_minor": 5
}
