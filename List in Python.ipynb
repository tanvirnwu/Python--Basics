{
 "cells": [
  {
   "cell_type": "markdown",
   "id": "159cb698",
   "metadata": {},
   "source": [
    "# List \n",
    "\n",
    "In Python, a list is a built-in data structure used to store a collection of items or elements. It is a mutable, ordered sequence of elements enclosed in square brackets [ ] and separated by commas."
   ]
  },
  {
   "cell_type": "code",
   "execution_count": 1,
   "id": "c38e1384",
   "metadata": {},
   "outputs": [
    {
     "data": {
      "text/plain": [
       "list"
      ]
     },
     "execution_count": 1,
     "metadata": {},
     "output_type": "execute_result"
    }
   ],
   "source": [
    "type([])"
   ]
  },
  {
   "cell_type": "code",
   "execution_count": 6,
   "id": "f7627618",
   "metadata": {},
   "outputs": [],
   "source": [
    "Var1 = []"
   ]
  },
  {
   "cell_type": "code",
   "execution_count": 7,
   "id": "a9479a9b",
   "metadata": {},
   "outputs": [
    {
     "data": {
      "text/plain": [
       "list"
      ]
     },
     "execution_count": 7,
     "metadata": {},
     "output_type": "execute_result"
    }
   ],
   "source": [
    "type(Var1)"
   ]
  },
  {
   "cell_type": "code",
   "execution_count": 8,
   "id": "ce430185",
   "metadata": {},
   "outputs": [],
   "source": [
    "lst = list()"
   ]
  },
  {
   "cell_type": "code",
   "execution_count": 9,
   "id": "408a61d4",
   "metadata": {},
   "outputs": [
    {
     "data": {
      "text/plain": [
       "list"
      ]
     },
     "execution_count": 9,
     "metadata": {},
     "output_type": "execute_result"
    }
   ],
   "source": [
    "type(lst)"
   ]
  },
  {
   "cell_type": "code",
   "execution_count": 10,
   "id": "eaef422a",
   "metadata": {},
   "outputs": [],
   "source": [
    "lst = ['Suwon','Dague','Daejeon']"
   ]
  },
  {
   "cell_type": "code",
   "execution_count": 11,
   "id": "9ce2037a",
   "metadata": {},
   "outputs": [
    {
     "data": {
      "text/plain": [
       "3"
      ]
     },
     "execution_count": 11,
     "metadata": {},
     "output_type": "execute_result"
    }
   ],
   "source": [
    "len(lst)"
   ]
  },
  {
   "cell_type": "code",
   "execution_count": 12,
   "id": "28f927d7",
   "metadata": {},
   "outputs": [
    {
     "name": "stdout",
     "output_type": "stream",
     "text": [
      "['Suwon', 'Dague', 'Daejeon']\n"
     ]
    }
   ],
   "source": [
    "print(lst)"
   ]
  },
  {
   "cell_type": "code",
   "execution_count": 13,
   "id": "bc5a0d53",
   "metadata": {},
   "outputs": [
    {
     "data": {
      "text/plain": [
       "list"
      ]
     },
     "execution_count": 13,
     "metadata": {},
     "output_type": "execute_result"
    }
   ],
   "source": [
    "type(lst)"
   ]
  },
  {
   "cell_type": "markdown",
   "id": "61706133",
   "metadata": {},
   "source": [
    "### Append"
   ]
  },
  {
   "cell_type": "code",
   "execution_count": 14,
   "id": "e477b8a5",
   "metadata": {},
   "outputs": [],
   "source": [
    "#.append is used to add elements in the list\n",
    "lst.append(\"Seoul\")"
   ]
  },
  {
   "cell_type": "code",
   "execution_count": 15,
   "id": "b1d59966",
   "metadata": {},
   "outputs": [
    {
     "data": {
      "text/plain": [
       "['Suwon', 'Dague', 'Daejeon', 'Seoul']"
      ]
     },
     "execution_count": 15,
     "metadata": {},
     "output_type": "execute_result"
    }
   ],
   "source": [
    "lst"
   ]
  },
  {
   "cell_type": "code",
   "execution_count": 16,
   "id": "9638a5b6",
   "metadata": {},
   "outputs": [
    {
     "name": "stdout",
     "output_type": "stream",
     "text": [
      "[1, 2, 3, 4, 5, 6]\n"
     ]
    }
   ],
   "source": [
    "# add multiple elements using the + operator\n",
    "my_list = [1, 2, 3]\n",
    "my_list = my_list + [4, 5, 6]\n",
    "print(my_list)   # output: [1, 2, 3, 4, 5, 6]"
   ]
  },
  {
   "cell_type": "code",
   "execution_count": 20,
   "id": "6904dfd5",
   "metadata": {},
   "outputs": [
    {
     "name": "stdout",
     "output_type": "stream",
     "text": [
      "[1, 2, 3, 4, 5, 6, 7, 8, 9]\n"
     ]
    }
   ],
   "source": [
    "# add multiple elements using the extend() method\n",
    "my_list = [1, 2, 3]\n",
    "my_list.extend([4, 5, 6, 7, 8, 9])\n",
    "print(my_list)   # output: [1, 2, 3, 4, 5, 6]"
   ]
  },
  {
   "cell_type": "code",
   "execution_count": 22,
   "id": "16df5cea",
   "metadata": {},
   "outputs": [
    {
     "data": {
      "text/plain": [
       "9"
      ]
     },
     "execution_count": 22,
     "metadata": {},
     "output_type": "execute_result"
    }
   ],
   "source": [
    "#Indexing in List\n",
    "my_list[8]"
   ]
  },
  {
   "cell_type": "code",
   "execution_count": 26,
   "id": "ad095358",
   "metadata": {},
   "outputs": [
    {
     "data": {
      "text/plain": [
       "[1, 2, 3, 4, 5, 6]"
      ]
     },
     "execution_count": 26,
     "metadata": {},
     "output_type": "execute_result"
    }
   ],
   "source": [
    "my_list[0:6]"
   ]
  },
  {
   "cell_type": "markdown",
   "id": "9bb00db5",
   "metadata": {},
   "source": [
    "### Insert\n",
    "Insert data in a specific index/position"
   ]
  },
  {
   "cell_type": "code",
   "execution_count": 27,
   "id": "4a60c72d",
   "metadata": {},
   "outputs": [],
   "source": [
    "my_list.insert(0,1)"
   ]
  },
  {
   "cell_type": "code",
   "execution_count": 28,
   "id": "72ff37a2",
   "metadata": {},
   "outputs": [
    {
     "data": {
      "text/plain": [
       "[1, 1, 2, 3, 4, 5, 6, 7, 8, 9]"
      ]
     },
     "execution_count": 28,
     "metadata": {},
     "output_type": "execute_result"
    }
   ],
   "source": [
    "my_list"
   ]
  },
  {
   "cell_type": "markdown",
   "id": "05ea07c9",
   "metadata": {},
   "source": [
    "### Extend Method\n",
    "Insert data in a specific index/position"
   ]
  },
  {
   "cell_type": "code",
   "execution_count": 29,
   "id": "410df33c",
   "metadata": {},
   "outputs": [],
   "source": [
    "lst1=[1,2,3,4,5,6,7,8,9]"
   ]
  },
  {
   "cell_type": "code",
   "execution_count": 30,
   "id": "d2c79c16",
   "metadata": {},
   "outputs": [],
   "source": [
    "lst1.extend([10,11])"
   ]
  },
  {
   "cell_type": "code",
   "execution_count": 31,
   "id": "65cc3d10",
   "metadata": {},
   "outputs": [
    {
     "data": {
      "text/plain": [
       "[1, 2, 3, 4, 5, 6, 7, 8, 9, 10, 11]"
      ]
     },
     "execution_count": 31,
     "metadata": {},
     "output_type": "execute_result"
    }
   ],
   "source": [
    "lst1"
   ]
  },
  {
   "cell_type": "markdown",
   "id": "2ab7ab7e",
   "metadata": {},
   "source": [
    "### More Practice"
   ]
  },
  {
   "cell_type": "code",
   "execution_count": 32,
   "id": "6d473f1b",
   "metadata": {},
   "outputs": [
    {
     "data": {
      "text/plain": [
       "11"
      ]
     },
     "execution_count": 32,
     "metadata": {},
     "output_type": "execute_result"
    }
   ],
   "source": [
    "lst1.pop()"
   ]
  },
  {
   "cell_type": "code",
   "execution_count": 33,
   "id": "6bcba403",
   "metadata": {},
   "outputs": [
    {
     "data": {
      "text/plain": [
       "[1, 2, 3, 4, 5, 6, 7, 8, 9, 10]"
      ]
     },
     "execution_count": 33,
     "metadata": {},
     "output_type": "execute_result"
    }
   ],
   "source": [
    "lst1"
   ]
  },
  {
   "cell_type": "code",
   "execution_count": 36,
   "id": "88aa63c0",
   "metadata": {},
   "outputs": [
    {
     "data": {
      "text/plain": [
       "6"
      ]
     },
     "execution_count": 36,
     "metadata": {},
     "output_type": "execute_result"
    }
   ],
   "source": [
    "lst1.pop(5)"
   ]
  },
  {
   "cell_type": "code",
   "execution_count": 37,
   "id": "c1e47b74",
   "metadata": {},
   "outputs": [
    {
     "data": {
      "text/plain": [
       "[1, 2, 3, 4, 5, 7, 8, 9]"
      ]
     },
     "execution_count": 37,
     "metadata": {},
     "output_type": "execute_result"
    }
   ],
   "source": [
    "lst1"
   ]
  },
  {
   "cell_type": "markdown",
   "id": "357859e1",
   "metadata": {},
   "source": [
    "### Count() "
   ]
  },
  {
   "cell_type": "code",
   "execution_count": 42,
   "id": "2c91dbe1",
   "metadata": {},
   "outputs": [],
   "source": [
    "lst2= [1,2,3,3,4,5,3,5,6,6,7,8,9,1,1,1]"
   ]
  },
  {
   "cell_type": "code",
   "execution_count": 43,
   "id": "076df2b0",
   "metadata": {},
   "outputs": [
    {
     "data": {
      "text/plain": [
       "4"
      ]
     },
     "execution_count": 43,
     "metadata": {},
     "output_type": "execute_result"
    }
   ],
   "source": [
    "lst2.count(1) #Counts the total number of 1 available in the list"
   ]
  },
  {
   "cell_type": "code",
   "execution_count": 54,
   "id": "8dbdd4dd",
   "metadata": {
    "scrolled": true
   },
   "outputs": [
    {
     "data": {
      "text/plain": [
       "[1, 2, 3, 3, 4, 5, 3, 5, 6, 6, 7, 8, 9, 1, 1, 1]"
      ]
     },
     "execution_count": 54,
     "metadata": {},
     "output_type": "execute_result"
    }
   ],
   "source": [
    "len(lst2)\n",
    "lst2"
   ]
  },
  {
   "cell_type": "code",
   "execution_count": 60,
   "id": "faff1439",
   "metadata": {},
   "outputs": [
    {
     "data": {
      "text/plain": [
       "12"
      ]
     },
     "execution_count": 60,
     "metadata": {},
     "output_type": "execute_result"
    }
   ],
   "source": [
    "#Find a specific from a specific range from a List.\n",
    "lst2.index(9,5,13)\n",
    "\n",
    "#Here index() is searching 9 in between index number 5 to 13"
   ]
  },
  {
   "cell_type": "code",
   "execution_count": 61,
   "id": "583dc676",
   "metadata": {},
   "outputs": [
    {
     "data": {
      "text/plain": [
       "9"
      ]
     },
     "execution_count": 61,
     "metadata": {},
     "output_type": "execute_result"
    }
   ],
   "source": [
    "max(lst2)"
   ]
  },
  {
   "cell_type": "code",
   "execution_count": 62,
   "id": "e5cbcca1",
   "metadata": {},
   "outputs": [
    {
     "data": {
      "text/plain": [
       "1"
      ]
     },
     "execution_count": 62,
     "metadata": {},
     "output_type": "execute_result"
    }
   ],
   "source": [
    "min(lst2)"
   ]
  },
  {
   "cell_type": "markdown",
   "id": "b479e444",
   "metadata": {},
   "source": [
    "### Multiplying a List"
   ]
  },
  {
   "cell_type": "code",
   "execution_count": 63,
   "id": "31013976",
   "metadata": {},
   "outputs": [],
   "source": [
    "lst3 = [1,2,3]"
   ]
  },
  {
   "cell_type": "code",
   "execution_count": 64,
   "id": "7ca9bcf4",
   "metadata": {},
   "outputs": [
    {
     "data": {
      "text/plain": [
       "[1, 2, 3]"
      ]
     },
     "execution_count": 64,
     "metadata": {},
     "output_type": "execute_result"
    }
   ],
   "source": [
    "lst3"
   ]
  },
  {
   "cell_type": "code",
   "execution_count": 66,
   "id": "de10a60c",
   "metadata": {},
   "outputs": [
    {
     "data": {
      "text/plain": [
       "[1, 2, 3, 1, 2, 3, 1, 2, 3]"
      ]
     },
     "execution_count": 66,
     "metadata": {},
     "output_type": "execute_result"
    }
   ],
   "source": [
    "lst3*3 #It is appending the full list 3 times"
   ]
  },
  {
   "cell_type": "code",
   "execution_count": 73,
   "id": "8724ab0d",
   "metadata": {},
   "outputs": [
    {
     "data": {
      "text/plain": [
       "[1, 2, 3]"
      ]
     },
     "execution_count": 73,
     "metadata": {},
     "output_type": "execute_result"
    }
   ],
   "source": [
    "lst3 #But it does not update the original List"
   ]
  },
  {
   "cell_type": "code",
   "execution_count": 67,
   "id": "3c51b237",
   "metadata": {},
   "outputs": [],
   "source": [
    "Cities = ['Suwon','Seoul','Daejeon']"
   ]
  },
  {
   "cell_type": "code",
   "execution_count": 72,
   "id": "5ab174d0",
   "metadata": {},
   "outputs": [
    {
     "data": {
      "text/plain": [
       "['Suwon', 'Seoul', 'Daejeon']"
      ]
     },
     "execution_count": 72,
     "metadata": {},
     "output_type": "execute_result"
    }
   ],
   "source": [
    "Cities"
   ]
  },
  {
   "cell_type": "code",
   "execution_count": 74,
   "id": "506b4c7b",
   "metadata": {},
   "outputs": [
    {
     "data": {
      "text/plain": [
       "['Suwon', 'Seoul', 'Daejeon', 'Suwon', 'Seoul', 'Daejeon']"
      ]
     },
     "execution_count": 74,
     "metadata": {},
     "output_type": "execute_result"
    }
   ],
   "source": [
    "Cities*2 #It is appending the full list 2 times"
   ]
  },
  {
   "cell_type": "code",
   "execution_count": 71,
   "id": "91902a90",
   "metadata": {},
   "outputs": [
    {
     "data": {
      "text/plain": [
       "['Suwon', 'Seoul', 'Daejeon']"
      ]
     },
     "execution_count": 71,
     "metadata": {},
     "output_type": "execute_result"
    }
   ],
   "source": [
    "Cities #But it does not update the original List"
   ]
  },
  {
   "cell_type": "code",
   "execution_count": null,
   "id": "f9896ac2",
   "metadata": {},
   "outputs": [],
   "source": []
  }
 ],
 "metadata": {
  "kernelspec": {
   "display_name": "Python 3 (ipykernel)",
   "language": "python",
   "name": "python3"
  },
  "language_info": {
   "codemirror_mode": {
    "name": "ipython",
    "version": 3
   },
   "file_extension": ".py",
   "mimetype": "text/x-python",
   "name": "python",
   "nbconvert_exporter": "python",
   "pygments_lexer": "ipython3",
   "version": "3.9.13"
  }
 },
 "nbformat": 4,
 "nbformat_minor": 5
}
