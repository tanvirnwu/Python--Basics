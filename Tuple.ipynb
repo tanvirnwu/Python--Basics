{
 "cells": [
  {
   "cell_type": "markdown",
   "id": "b0e40c0b",
   "metadata": {},
   "source": [
    "# Tuple\n",
    "In Python, a tuple is an ordered, immutable sequence of elements. Tuples are defined using parentheses () and elements are separated by commas. Here's an example:"
   ]
  },
  {
   "cell_type": "code",
   "execution_count": 1,
   "id": "e4e14ac1",
   "metadata": {},
   "outputs": [
    {
     "name": "stdout",
     "output_type": "stream",
     "text": [
      "1\n",
      "True\n"
     ]
    },
    {
     "ename": "TypeError",
     "evalue": "'tuple' object does not support item assignment",
     "output_type": "error",
     "traceback": [
      "\u001b[1;31m---------------------------------------------------------------------------\u001b[0m",
      "\u001b[1;31mTypeError\u001b[0m                                 Traceback (most recent call last)",
      "\u001b[1;32m~\\AppData\\Local\\Temp\\ipykernel_15156\\2059469063.py\u001b[0m in \u001b[0;36m<module>\u001b[1;34m\u001b[0m\n\u001b[0;32m     11\u001b[0m \u001b[1;31m# tuples are immutable, so you can't modify their elements\u001b[0m\u001b[1;33m\u001b[0m\u001b[1;33m\u001b[0m\u001b[0m\n\u001b[0;32m     12\u001b[0m \u001b[1;31m# for example, the following line will raise a TypeError\u001b[0m\u001b[1;33m\u001b[0m\u001b[1;33m\u001b[0m\u001b[0m\n\u001b[1;32m---> 13\u001b[1;33m \u001b[0mmy_tuple\u001b[0m\u001b[1;33m[\u001b[0m\u001b[1;36m0\u001b[0m\u001b[1;33m]\u001b[0m \u001b[1;33m=\u001b[0m \u001b[1;36m10\u001b[0m\u001b[1;33m\u001b[0m\u001b[1;33m\u001b[0m\u001b[0m\n\u001b[0m",
      "\u001b[1;31mTypeError\u001b[0m: 'tuple' object does not support item assignment"
     ]
    }
   ],
   "source": [
    "# defining a tuple of integers\n",
    "my_tuple = (1, 2, 3, 4, 5)\n",
    "\n",
    "# defining a tuple of mixed data types\n",
    "another_tuple = (\"apple\", 3.14, True, [1, 2, 3])\n",
    "\n",
    "# accessing elements of a tuple using indexing\n",
    "print(my_tuple[0])  # prints 1\n",
    "print(another_tuple[2])  # prints True\n",
    "\n",
    "# tuples are immutable, so you can't modify their elements\n",
    "# for example, the following line will raise a TypeError\n",
    "my_tuple[0] = 10\n"
   ]
  },
  {
   "cell_type": "code",
   "execution_count": null,
   "id": "a9a43b0f",
   "metadata": {},
   "outputs": [],
   "source": []
  }
 ],
 "metadata": {
  "kernelspec": {
   "display_name": "Python 3 (ipykernel)",
   "language": "python",
   "name": "python3"
  },
  "language_info": {
   "codemirror_mode": {
    "name": "ipython",
    "version": 3
   },
   "file_extension": ".py",
   "mimetype": "text/x-python",
   "name": "python",
   "nbconvert_exporter": "python",
   "pygments_lexer": "ipython3",
   "version": "3.9.13"
  }
 },
 "nbformat": 4,
 "nbformat_minor": 5
}
