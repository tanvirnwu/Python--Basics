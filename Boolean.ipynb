{
 "cells": [
  {
   "cell_type": "markdown",
   "id": "e64bd5e2",
   "metadata": {},
   "source": [
    "## Boolean in Python\n",
    "\n",
    "In Python, a Boolean is a data type that can have one of two values: True or False. Booleans are often used to represent the truth value of an expression or condition.\n",
    "\n",
    "In addition to True and False, the Boolean data type in Python also includes some other values that can be treated as Booleans. These include None, which represents the absence of a value and is treated as False, and any non-zero numeric value, which is treated as True."
   ]
  },
  {
   "cell_type": "markdown",
   "id": "bd550188",
   "metadata": {},
   "source": [
    "### bool() \n",
    "bool(): This function takes a value and returns its corresponding Boolean value. If the value is considered \"truthy\" (i.e., it evaluates to True in a Boolean context), bool() returns True. Otherwise, it returns False."
   ]
  },
  {
   "cell_type": "code",
   "execution_count": 2,
   "id": "d5f6ad2c",
   "metadata": {},
   "outputs": [
    {
     "name": "stdout",
     "output_type": "stream",
     "text": [
      "True\n",
      "False\n",
      "False\n",
      "True\n",
      "False\n"
     ]
    }
   ],
   "source": [
    "print(bool(1))   # True\n",
    "print(bool(0))   # False\n",
    "print(bool([]))  # False (an empty list is considered \"falsy\")\n",
    "print(bool(\"hello\"))  # True\n",
    "print(bool(None))  # False\n"
   ]
  },
  {
   "cell_type": "markdown",
   "id": "004c49c9",
   "metadata": {},
   "source": [
    "### isinstance()\n",
    "isinstance(): This function checks whether an object is an instance of a particular class. It returns True if the object is an instance of the class and False otherwise."
   ]
  },
  {
   "cell_type": "code",
   "execution_count": 3,
   "id": "99c2af11",
   "metadata": {},
   "outputs": [
    {
     "name": "stdout",
     "output_type": "stream",
     "text": [
      "True\n",
      "False\n"
     ]
    }
   ],
   "source": [
    "class MyClass:\n",
    "    pass\n",
    "\n",
    "obj = MyClass()\n",
    "print(isinstance(obj, MyClass))  # True\n",
    "print(isinstance(obj, int))       # False\n"
   ]
  },
  {
   "cell_type": "markdown",
   "id": "b24dbd4c",
   "metadata": {},
   "source": [
    "### all() \n",
    "all(): This function takes an iterable (e.g., a list or tuple) and returns True if all the elements in the iterable are considered \"truthy\". Otherwise, it returns False."
   ]
  },
  {
   "cell_type": "code",
   "execution_count": 4,
   "id": "b564e30d",
   "metadata": {},
   "outputs": [
    {
     "name": "stdout",
     "output_type": "stream",
     "text": [
      "True\n",
      "False\n"
     ]
    }
   ],
   "source": [
    "my_list = [1, 2, 3, 4]\n",
    "print(all(my_list))  # True (all elements are non-zero)\n",
    "\n",
    "my_list = [1, 0, 3, 4]\n",
    "print(all(my_list))  # False (0 is considered \"falsy\")\n"
   ]
  },
  {
   "cell_type": "markdown",
   "id": "d549be90",
   "metadata": {},
   "source": [
    "### any()\n",
    "any(): This function takes an iterable and returns True if at least one element in the iterable is considered \"truthy\". Otherwise, it returns False."
   ]
  },
  {
   "cell_type": "code",
   "execution_count": 5,
   "id": "b3625fdd",
   "metadata": {},
   "outputs": [
    {
     "name": "stdout",
     "output_type": "stream",
     "text": [
      "True\n",
      "False\n"
     ]
    }
   ],
   "source": [
    "my_list = [0, 0, 0, 1]\n",
    "print(any(my_list))  # True (at least one element is non-zero)\n",
    "\n",
    "my_list = [0, 0, 0, False]\n",
    "print(any(my_list))  # False (all elements are \"falsy\")\n"
   ]
  },
  {
   "cell_type": "markdown",
   "id": "9da5fe6e",
   "metadata": {},
   "source": [
    "### More Practice"
   ]
  },
  {
   "cell_type": "code",
   "execution_count": 7,
   "id": "feadb6b0",
   "metadata": {},
   "outputs": [
    {
     "name": "stdout",
     "output_type": "stream",
     "text": [
      "True False\n"
     ]
    }
   ],
   "source": [
    "print(True, False)"
   ]
  },
  {
   "cell_type": "code",
   "execution_count": 10,
   "id": "571c05af",
   "metadata": {},
   "outputs": [
    {
     "data": {
      "text/plain": [
       "bool"
      ]
     },
     "execution_count": 10,
     "metadata": {},
     "output_type": "execute_result"
    }
   ],
   "source": [
    "type(True)\n",
    "type(False)"
   ]
  },
  {
   "cell_type": "code",
   "execution_count": 6,
   "id": "2b658217",
   "metadata": {},
   "outputs": [],
   "source": [
    "Country=\"South KOREA\""
   ]
  },
  {
   "cell_type": "code",
   "execution_count": 7,
   "id": "afe19ab5",
   "metadata": {},
   "outputs": [
    {
     "data": {
      "text/plain": [
       "'South korea'"
      ]
     },
     "execution_count": 7,
     "metadata": {},
     "output_type": "execute_result"
    }
   ],
   "source": [
    "Country.capitalize()"
   ]
  },
  {
   "cell_type": "code",
   "execution_count": 8,
   "id": "bf5780e2",
   "metadata": {},
   "outputs": [
    {
     "name": "stdout",
     "output_type": "stream",
     "text": [
      "False\n",
      "False\n",
      "False\n"
     ]
    }
   ],
   "source": [
    "print(Country.isalpha()) #Check if all char in the string are alphabetic\n",
    "print(Country.isalnum()) #check it all char are numbers\n",
    "print(Country.isdigit()) #check if strong contains digit"
   ]
  },
  {
   "cell_type": "markdown",
   "id": "4e5b4bfd",
   "metadata": {},
   "source": [
    "### Boolean & Logical Operations "
   ]
  },
  {
   "cell_type": "code",
   "execution_count": 9,
   "id": "3e12369f",
   "metadata": {},
   "outputs": [
    {
     "data": {
      "text/plain": [
       "True"
      ]
     },
     "execution_count": 9,
     "metadata": {},
     "output_type": "execute_result"
    }
   ],
   "source": [
    "True and True"
   ]
  },
  {
   "cell_type": "code",
   "execution_count": 10,
   "id": "3ac28f65",
   "metadata": {},
   "outputs": [
    {
     "data": {
      "text/plain": [
       "False"
      ]
     },
     "execution_count": 10,
     "metadata": {},
     "output_type": "execute_result"
    }
   ],
   "source": [
    "True and False"
   ]
  },
  {
   "cell_type": "code",
   "execution_count": 11,
   "id": "f077fbfa",
   "metadata": {},
   "outputs": [
    {
     "data": {
      "text/plain": [
       "True"
      ]
     },
     "execution_count": 11,
     "metadata": {},
     "output_type": "execute_result"
    }
   ],
   "source": [
    "True or False"
   ]
  },
  {
   "cell_type": "code",
   "execution_count": 12,
   "id": "30f918ce",
   "metadata": {},
   "outputs": [
    {
     "data": {
      "text/plain": [
       "True"
      ]
     },
     "execution_count": 12,
     "metadata": {},
     "output_type": "execute_result"
    }
   ],
   "source": [
    "True or True"
   ]
  },
  {
   "cell_type": "code",
   "execution_count": 15,
   "id": "61a1df84",
   "metadata": {},
   "outputs": [
    {
     "data": {
      "text/plain": [
       "False"
      ]
     },
     "execution_count": 15,
     "metadata": {},
     "output_type": "execute_result"
    }
   ],
   "source": [
    "Country.isalpha() or Country.isdigit()"
   ]
  },
  {
   "cell_type": "code",
   "execution_count": null,
   "id": "b4ec9d41",
   "metadata": {},
   "outputs": [],
   "source": []
  }
 ],
 "metadata": {
  "kernelspec": {
   "display_name": "Python 3 (ipykernel)",
   "language": "python",
   "name": "python3"
  },
  "language_info": {
   "codemirror_mode": {
    "name": "ipython",
    "version": 3
   },
   "file_extension": ".py",
   "mimetype": "text/x-python",
   "name": "python",
   "nbconvert_exporter": "python",
   "pygments_lexer": "ipython3",
   "version": "3.9.13"
  }
 },
 "nbformat": 4,
 "nbformat_minor": 5
}
